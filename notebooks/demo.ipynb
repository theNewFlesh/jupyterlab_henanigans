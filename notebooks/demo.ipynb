{
 "cells": [
  {
   "cell_type": "code",
   "execution_count": 1,
   "id": "3d389dcb",
   "metadata": {},
   "outputs": [
    {
     "ename": "NameError",
     "evalue": "name '__file__' is not defined",
     "output_type": "error",
     "traceback": [
      "\u001b[0;31m---------------------------------------------------------------------------\u001b[0m",
      "\u001b[0;31mNameError\u001b[0m                                 Traceback (most recent call last)",
      "\u001b[0;32m<ipython-input-1-99f777c42065>\u001b[0m in \u001b[0;36m<module>\u001b[0;34m\u001b[0m\n\u001b[1;32m     10\u001b[0m \u001b[0;34m\u001b[0m\u001b[0m\n\u001b[1;32m     11\u001b[0m \u001b[0;31m# python2.7 doesn't have pathlib module\u001b[0m\u001b[0;34m\u001b[0m\u001b[0;34m\u001b[0m\u001b[0;34m\u001b[0m\u001b[0m\n\u001b[0;32m---> 12\u001b[0;31m \u001b[0mREPO_PATH\u001b[0m \u001b[0;34m=\u001b[0m \u001b[0mos\u001b[0m\u001b[0;34m.\u001b[0m\u001b[0mpath\u001b[0m\u001b[0;34m.\u001b[0m\u001b[0mjoin\u001b[0m\u001b[0;34m(\u001b[0m\u001b[0mos\u001b[0m\u001b[0;34m.\u001b[0m\u001b[0msep\u001b[0m\u001b[0;34m,\u001b[0m \u001b[0;34m*\u001b[0m\u001b[0mos\u001b[0m\u001b[0;34m.\u001b[0m\u001b[0mpath\u001b[0m\u001b[0;34m.\u001b[0m\u001b[0mrealpath\u001b[0m\u001b[0;34m(\u001b[0m\u001b[0m__file__\u001b[0m\u001b[0;34m)\u001b[0m\u001b[0;34m.\u001b[0m\u001b[0msplit\u001b[0m\u001b[0;34m(\u001b[0m\u001b[0mos\u001b[0m\u001b[0;34m.\u001b[0m\u001b[0msep\u001b[0m\u001b[0;34m)\u001b[0m\u001b[0;34m[\u001b[0m\u001b[0;34m:\u001b[0m\u001b[0;34m-\u001b[0m\u001b[0;36m2\u001b[0m\u001b[0;34m]\u001b[0m\u001b[0;34m)\u001b[0m\u001b[0;34m\u001b[0m\u001b[0;34m\u001b[0m\u001b[0m\n\u001b[0m\u001b[1;32m     13\u001b[0m \u001b[0mREPO\u001b[0m \u001b[0;34m=\u001b[0m \u001b[0mos\u001b[0m\u001b[0;34m.\u001b[0m\u001b[0mpath\u001b[0m\u001b[0;34m.\u001b[0m\u001b[0msplit\u001b[0m\u001b[0;34m(\u001b[0m\u001b[0mREPO_PATH\u001b[0m\u001b[0;34m)\u001b[0m\u001b[0;34m[\u001b[0m\u001b[0;34m-\u001b[0m\u001b[0;36m1\u001b[0m\u001b[0;34m]\u001b[0m\u001b[0;34m\u001b[0m\u001b[0;34m\u001b[0m\u001b[0m\n\u001b[1;32m     14\u001b[0m \u001b[0mGITHUB_USER\u001b[0m \u001b[0;34m=\u001b[0m \u001b[0;34m'theNewFlesh'\u001b[0m\u001b[0;34m\u001b[0m\u001b[0;34m\u001b[0m\u001b[0m\n",
      "\u001b[0;31mNameError\u001b[0m: name '__file__' is not defined"
     ]
    }
   ],
   "source": [
    "try:\n",
    "    # python2.7 doesn't have typing module\n",
    "    from typing import Any, List, Tuple\n",
    "except ImportError:\n",
    "    pass\n",
    "\n",
    "import argparse\n",
    "import os\n",
    "import re\n",
    "\n",
    "# python2.7 doesn't have pathlib module\n",
    "REPO_PATH = os.path.join(os.sep, *os.path.realpath(__file__).split(os.sep)[:-2])\n",
    "REPO = os.path.split(REPO_PATH)[-1]\n",
    "GITHUB_USER = 'theNewFlesh'\n",
    "USER = 'ubuntu:ubuntu'\n",
    "PORT = 8080\n",
    "# ------------------------------------------------------------------------------\n",
    "\n",
    "'''\n",
    "A CLI for developing and deploying an app deeply integrated with this\n",
    "repository's structure. Written to be python version agnostic.\n",
    "'''\n",
    "\n",
    "\n",
    "def get_info():\n",
    "    # type: () -> Tuple[str, list]\n",
    "    '''\n",
    "    Parses command line call.\n",
    "\n",
    "    Returns:\n",
    "        tuple[str]: Mode and arguments.\n",
    "    '''\n",
    "    desc = 'A CLI for developing and deploying the {repo} app.'.format(\n",
    "        repo=REPO\n",
    "    )\n",
    "    parser = argparse.ArgumentParser(\n",
    "        formatter_class=argparse.RawTextHelpFormatter,\n",
    "        description=desc,\n",
    "        usage='\\n\\tpython cli.py COMMAND [-a --args]=ARGS [-h --help]'\n",
    "    )\n",
    "    \n",
    "raise ValueError('skjhda')"
   ]
  },
  {
   "cell_type": "code",
   "execution_count": null,
   "id": "e7168c9d-efde-4f07-b474-511fa1dbd0f8",
   "metadata": {},
   "outputs": [],
   "source": []
  }
 ],
 "metadata": {
  "kernelspec": {
   "display_name": "Python 3",
   "language": "python",
   "name": "python3"
  },
  "language_info": {
   "codemirror_mode": {
    "name": "ipython",
    "version": 3
   },
   "file_extension": ".py",
   "mimetype": "text/x-python",
   "name": "python",
   "nbconvert_exporter": "python",
   "pygments_lexer": "ipython3",
   "version": "3.7.10"
  },
  "toc-autonumbering": false
 },
 "nbformat": 4,
 "nbformat_minor": 5
}
